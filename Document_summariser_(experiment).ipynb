{
  "nbformat": 4,
  "nbformat_minor": 0,
  "metadata": {
    "colab": {
      "name": "Document summariser (experiment).ipynb",
      "provenance": [],
      "collapsed_sections": [],
      "toc_visible": true,
      "authorship_tag": "ABX9TyO0yDhQ1CIcwBKvWwk2GjJK",
      "include_colab_link": true
    },
    "kernelspec": {
      "name": "python3",
      "display_name": "Python 3"
    },
    "accelerator": "GPU"
  },
  "cells": [
    {
      "cell_type": "markdown",
      "metadata": {
        "id": "view-in-github",
        "colab_type": "text"
      },
      "source": [
        "<a href=\"https://colab.research.google.com/github/MrFlygerian/NLP-Document-Summary/blob/master/Document_summariser_(experiment).ipynb\" target=\"_parent\"><img src=\"https://colab.research.google.com/assets/colab-badge.svg\" alt=\"Open In Colab\"/></a>"
      ]
    },
    {
      "cell_type": "code",
      "metadata": {
        "id": "JOTh2wN3JehQ",
        "colab_type": "code",
        "colab": {
          "base_uri": "https://localhost:8080/",
          "height": 34
        },
        "outputId": "32c957c0-039e-4d69-dc92-f7a6c5ff082c"
      },
      "source": [
        "from google.colab import  drive\n",
        "drive.mount('/content/drive')"
      ],
      "execution_count": 27,
      "outputs": [
        {
          "output_type": "stream",
          "text": [
            "Drive already mounted at /content/drive; to attempt to forcibly remount, call drive.mount(\"/content/drive\", force_remount=True).\n"
          ],
          "name": "stdout"
        }
      ]
    },
    {
      "cell_type": "code",
      "metadata": {
        "id": "zMfKMZ_XKiZp",
        "colab_type": "code",
        "colab": {
          "base_uri": "https://localhost:8080/",
          "height": 101
        },
        "outputId": "2fbfa880-49dc-46e9-bf61-ed684f2e1867"
      },
      "source": [
        "!ls \"/content/drive/My Drive/Colab Notebooks\"\n",
        "%cd \"/content/drive/My Drive/Colab Notebooks\""
      ],
      "execution_count": 28,
      "outputs": [
        {
          "output_type": "stream",
          "text": [
            " control-weights-30-1.5048.hdf5\t\t   __pycache__\n",
            "'Document Summariser (control).ipynb'\t   README.md\n",
            "'Document summariser (experiment).ipynb'   starting-weight.hdf5\n",
            " get_docx_text.py\t\t\t   wonderland.txt\n",
            "/content/drive/My Drive/Colab Notebooks\n"
          ],
          "name": "stdout"
        }
      ]
    },
    {
      "cell_type": "code",
      "metadata": {
        "id": "DHvs53xiW3L3",
        "colab_type": "code",
        "colab": {}
      },
      "source": [
        "#specific to extracting information from word documents\n",
        "from get_docx_text import get_docx_text\n",
        "import os\n",
        "import sys\n",
        "#converting letters to numbers\n",
        "import numpy as np\n",
        "\n",
        "#deep learning modules\n",
        "from keras.models import Sequential\n",
        "from keras.layers import Dense\n",
        "from keras.layers import Dropout\n",
        "from keras.layers import LSTM\n",
        "from keras.utils import np_utils\n",
        "from keras.callbacks import ModelCheckpoint"
      ],
      "execution_count": 29,
      "outputs": []
    },
    {
      "cell_type": "code",
      "metadata": {
        "id": "N_rRoiXaXM4W",
        "colab_type": "code",
        "colab": {
          "base_uri": "https://localhost:8080/",
          "height": 50
        },
        "outputId": "1443f6e1-d88f-4ba7-e1e0-c9f99fb98193"
      },
      "source": [
        "#load files and extract text\n",
        "\n",
        "#move to the file container folder\n",
        "%cd '/content/drive/My Drive/Files from retreat/'\n",
        "\n",
        "files = [f for f in os.listdir('.')]\n",
        "texts = []\n",
        "for file in files:\n",
        "  try:\n",
        "    texts.append(get_docx_text(file).lower())\n",
        "  except:\n",
        "    continue\n",
        "train_text = ' '.join(texts)\n",
        "\n",
        "#move back to working directory\n",
        "%cd \"/content/drive/My Drive/Colab Notebooks\""
      ],
      "execution_count": 30,
      "outputs": [
        {
          "output_type": "stream",
          "text": [
            "/content/drive/My Drive/Files from retreat\n",
            "/content/drive/My Drive/Colab Notebooks\n"
          ],
          "name": "stdout"
        }
      ]
    },
    {
      "cell_type": "code",
      "metadata": {
        "id": "meLxJ3eM3AF2",
        "colab_type": "code",
        "colab": {}
      },
      "source": [
        "#create numberical map using document characters\n",
        "chars = sorted(list(set(train_text)))\n",
        "char_to_int = dict((c, i) for i, c in enumerate(chars))\n",
        "int_to_char = dict((i, c) for i, c in enumerate(chars))"
      ],
      "execution_count": 31,
      "outputs": []
    },
    {
      "cell_type": "code",
      "metadata": {
        "id": "Ro2_2vyJ3VWM",
        "colab_type": "code",
        "colab": {}
      },
      "source": [
        "# summarize the loaded data\n",
        "n_chars = len(train_text)\n",
        "n_vocab = len(chars)"
      ],
      "execution_count": 32,
      "outputs": []
    },
    {
      "cell_type": "code",
      "metadata": {
        "id": "TBytzkaD3prP",
        "colab_type": "code",
        "colab": {}
      },
      "source": [
        "# prepare the dataset of input to output pairs encoded as integers\n",
        "seq_length = 100\n",
        "dataX = []\n",
        "dataY = []\n",
        "for i in range(0, n_chars - seq_length, 1):\n",
        "\tseq_in = train_text[i:i + seq_length]\n",
        "\tseq_out = train_text[i + seq_length]\n",
        "\tdataX.append([char_to_int[char] for char in seq_in])\n",
        "\tdataY.append(char_to_int[seq_out])\n",
        "    \n",
        "n_patterns = len(dataX)"
      ],
      "execution_count": 33,
      "outputs": []
    },
    {
      "cell_type": "code",
      "metadata": {
        "id": "kWK2hvzj3wea",
        "colab_type": "code",
        "colab": {}
      },
      "source": [
        "# reshape X to be [samples, time steps, features]\n",
        "X = np.reshape(dataX, (n_patterns, seq_length, 1))\n",
        "\n",
        "# normalize\n",
        "X = X / float(n_vocab)\n",
        "\n",
        "# one hot encode the output variable\n",
        "y = np_utils.to_categorical(dataY)"
      ],
      "execution_count": 34,
      "outputs": []
    },
    {
      "cell_type": "code",
      "metadata": {
        "id": "GLf-v6YlAfdr",
        "colab_type": "code",
        "colab": {}
      },
      "source": [
        "# define the LSTM model\n",
        "model = Sequential()\n",
        "model.add(LSTM(256, input_shape=(X.shape[1], X.shape[2]), return_sequences=True))\n",
        "model.add(Dropout(0.2))\n",
        "model.add(LSTM(256))\n",
        "model.add(Dropout(0.2))\n",
        "model.add(Dense(y.shape[1], activation='softmax'))\n",
        "model.load_weights('control-weights-30-1.5048.hdf5')\n",
        "model.compile(loss='categorical_crossentropy', optimizer='adam')"
      ],
      "execution_count": 35,
      "outputs": []
    },
    {
      "cell_type": "code",
      "metadata": {
        "id": "uzEChd4IAfhj",
        "colab_type": "code",
        "colab": {}
      },
      "source": [
        "#define checkpoint\n",
        "filepath=\"experiment-weights-{epoch:02d}-{loss:.4f}.hdf5\"\n",
        "checkpoint = ModelCheckpoint(filepath, monitor='loss', verbose=1, save_best_only=True, mode='min')\n",
        "callbacks_list = [checkpoint]"
      ],
      "execution_count": 36,
      "outputs": []
    },
    {
      "cell_type": "code",
      "metadata": {
        "id": "1aJHQVVnAfkx",
        "colab_type": "code",
        "colab": {
          "base_uri": "https://localhost:8080/",
          "height": 185
        },
        "outputId": "8ca63740-1004-495c-cc13-1925348410ee"
      },
      "source": [
        "#fit model\n",
        "model.fit(X, y, epochs=30, batch_size=128, callbacks=callbacks_list)"
      ],
      "execution_count": null,
      "outputs": [
        {
          "output_type": "stream",
          "text": [
            "Epoch 1/30\n",
            "105133/105133 [==============================] - 489s 5ms/step - loss: 1.4919\n",
            "\n",
            "Epoch 00001: loss improved from inf to 1.49187, saving model to experiment-weights-01-1.4919.hdf5\n",
            "Epoch 2/30\n",
            "105133/105133 [==============================] - 483s 5ms/step - loss: 1.4705\n",
            "\n",
            "Epoch 00002: loss improved from 1.49187 to 1.47054, saving model to experiment-weights-02-1.4705.hdf5\n",
            "Epoch 3/30\n",
            " 61056/105133 [================>.............] - ETA: 3:19 - loss: 1.4471"
          ],
          "name": "stdout"
        }
      ]
    },
    {
      "cell_type": "code",
      "metadata": {
        "id": "HyG7e0z8Affu",
        "colab_type": "code",
        "colab": {}
      },
      "source": [
        "start = np.random.randint(0, len(dataX)-1)\n",
        "pattern = dataX[start]\n",
        "print (\"Seed:\")\n",
        "print (\"\\\"\", ''.join([int_to_char[value] for value in pattern]), \"\\\"\")\n"
      ],
      "execution_count": null,
      "outputs": []
    },
    {
      "cell_type": "code",
      "metadata": {
        "id": "MixT1vgSAqUV",
        "colab_type": "code",
        "colab": {}
      },
      "source": [
        "# generate characters\n",
        "for i in range(500):\n",
        "\tx = np.reshape(pattern, (1, len(pattern), 1))\n",
        "\tx = x / float(n_vocab)\n",
        "\tprediction = model.predict(x, verbose=0)\n",
        "\tindex = np.argmax(prediction)\n",
        "\tresult = int_to_char[index]\n",
        "\tseq_in = [int_to_char[value] for value in pattern]\n",
        "\tsys.stdout.write(result)\n",
        "\tpattern.append(index)\n",
        "\tpattern = pattern[1:len(pattern)]\n",
        "print (\"\\nDone.\")"
      ],
      "execution_count": null,
      "outputs": []
    },
    {
      "cell_type": "code",
      "metadata": {
        "id": "7pGqQ7kpBmdq",
        "colab_type": "code",
        "colab": {}
      },
      "source": [
        ""
      ],
      "execution_count": null,
      "outputs": []
    }
  ]
}